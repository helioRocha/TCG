{
 "cells": [
  {
   "cell_type": "code",
   "execution_count": 1,
   "metadata": {},
   "outputs": [
    {
     "name": "stdout",
     "output_type": "stream",
     "text": [
      "conda 4.8.0\r\n"
     ]
    }
   ],
   "source": [
    "! conda -V"
   ]
  },
  {
   "cell_type": "code",
   "execution_count": 2,
   "metadata": {},
   "outputs": [
    {
     "name": "stdout",
     "output_type": "stream",
     "text": [
      "Python 3.7.6\r\n"
     ]
    }
   ],
   "source": [
    "! python -V"
   ]
  },
  {
   "cell_type": "markdown",
   "metadata": {},
   "source": [
    "## 2. Inicio a TG"
   ]
  },
  {
   "cell_type": "code",
   "execution_count": 2,
   "metadata": {},
   "outputs": [],
   "source": [
    "class Grafo(object):\n",
    "    \n",
    "    def __init__(self, orientado = False):\n",
    "        self.n, \n",
    "        self.m,\n",
    "        self.orientado = None,\n",
    "        None,\n",
    "        orientado\n",
    "        \n",
    "    def Definir(self, n):\n",
    "        self.n,\n",
    "        self.m = n,\n",
    "        0\n",
    "        \n",
    "    def V(self):\n",
    "        for i in range(1, self.n+1):\n",
    "            yield i\n",
    "            \n",
    "    def E(self, IterarSobreNo=False):\n",
    "        for v in self.V():\n",
    "            for w in self.N(v, \n",
    "                            tipo = \"+\" if self.orientado else \"*\", \n",
    "                            IterarSobreNo=IterarSobreNo):\n",
    "                enumerar = True\n",
    "                if not self.orientado:\n",
    "                    wint = w if isinstace(w, int) else w.Viz\n",
    "                    enumerar = v < wint\n",
    "                if enumerar:\n",
    "                    yield (v, w)\n",
    "                "
   ]
  },
  {
   "cell_type": "code",
   "execution_count": 3,
   "metadata": {},
   "outputs": [],
   "source": [
    "class GrafoMatrizAdj(Grafo):\n",
    "    \n",
    "    def DefinirN(self, n):\n",
    "        super(GrafoMatrizAdj, self).DefinirN(n)\n",
    "        self.N = [None]*(self.n+1)\n",
    "        for i in range(1, self.n+1):\n",
    "            self.M[i] = [0]*(self.n+1)\n",
    "    \n",
    "    def RemoverAresta(self, u, v):\n",
    "        self.M[u][v] = 0\n",
    "        if not self.orientado:\n",
    "            self.M[v][u] = 0\n",
    "        self.m = self.m-1\n",
    "        \n",
    "    def AdicionarAresta(self, u, v):\n",
    "        self.M[u][v] = 1\n",
    "        if not self.orientado:\n",
    "            self.N[v][u] = 1\n",
    "        self.m = self.m+1\n",
    "        \n",
    "    def SaoAdj(self, u, v):\n",
    "        \n",
    "        return self.M[u][v] == 1\n",
    "    \n",
    "    def N(self, v, Tipo = \"*\", Fechada=False, IterarSobreNo=False):\n",
    "        if Fechada:\n",
    "            yield v\n",
    "        w = 1\n",
    "        t = \"+\" if Tipo == \"*\" and self.orientado else Tipo\n",
    "        while w <= self.n:\n",
    "            if t == \"+\":\n",
    "                orig, dest, viz = v, w, w\n",
    "            else:\n",
    "                orig, dest, viz = w, v, w\n",
    "            if self.SaoAdj(orig, dest):\n",
    "                yield w\n",
    "            w = w + 1\n",
    "            if w > self.n and t == \"+\" and Tipo == \"*\":\n",
    "                t, w = \"-\", 1"
   ]
  },
  {
   "cell_type": "code",
   "execution_count": 4,
   "metadata": {},
   "outputs": [],
   "source": [
    "class GrafoListaAdj(Grafo):\n",
    "    class NoAresta(object):\n",
    "        \n",
    "        def __init__(self):\n",
    "            self.Viz = None\n",
    "            self.e = None\n",
    "            self.Prox = None\n",
    "            \n",
    "    class Aresta(object):\n",
    "        \n",
    "        def __init__(self):\n",
    "            self.v1, self.No1 = None, None\n",
    "            self.v2, self.No2 = None, None\n",
    "            \n",
    "    def DefinirN(self, n, VizinhancaDuṕlamenteLigada=False):\n",
    "        super(GrafoListaAdj, self).DefinirN(n)\n",
    "        self.L = [Nnoe]*(self.n+1)\n",
    "        for i in range(1, self.n+1):\n",
    "            self.L[i] = GrafoListaAdj.NoAresta()\n",
    "        slef.VizinhancaDuṕlamenteLigada = VizinhancaDuṕlamenteLigada\n",
    "        \n",
    "    def AdicionarAresta(self, u, v):\n",
    "        \n",
    "        def AdicionarLista(u, v, e, Tipo):\n",
    "            No = GrafoListaAdj.NoAresta()\n",
    "            No.Viz, No.e, No.Prox, self.L[u].Prox = v, e, self.L[u].Prox, No\n",
    "            if self.VizinhancaDuṕlamenteLigada:\n",
    "                self.L[u].Prox.Ant = self.L[u]\n",
    "                if self.L[u].Prox.Prox != None:\n",
    "                    self.L[u].Prox.Prox.Ant = self.L[u].Prox\n",
    "            if self.orientado:\n",
    "                No.Tipo = Tipo\n",
    "            return No\n",
    "        \n",
    "        e = GrafoListaAdj(u,v,e,\"+\")\n",
    "        e.v1, e.v2 = u, v\n",
    "        e.No1 = AdicionarLista(u,v,e,\"+\")\n",
    "        e.No2 = AdicionarLista(u,v,e,\"-\")\n",
    "        self.m = self.m+1\n",
    "        return e\n",
    "    \n",
    "    def RemoverAresta(self, uv):\n",
    "        \n",
    "        def RemoverLista(No):\n",
    "            No.Ant.Prox = No.Prox\n",
    "            if No.Prox != None:\n",
    "                No.Prox.Ant = No.Ant\n",
    "        RemoverLista(uv, No1)\n",
    "        RemoverLista(uv, No2)\n",
    "    \n",
    "    def SaoAdj(self, u, v):\n",
    "        \n",
    "        Tipo = \"+\" if self.orientado else \"*\"\n",
    "        for w in self.N(u, Tipo):\n",
    "            if w == v:\n",
    "                return True\n",
    "        return False\n",
    "    \n",
    "    def N(self, v, Tipo = \"*\", fechada=False, IterarSobreNo=False):\n",
    "        if Fechada:\n",
    "            No = GrafoListaAdj.NoAresta()\n",
    "            No.Viz, No.e, No.Prox = v, None, None\n",
    "            yield No if IterarSobreNo else No.Viz\n",
    "        w = self.L[v].Prox\n",
    "        while w != None:\n",
    "            if Tipo == \"*\" or w.Tipo == Tipo:\n",
    "                yield w if IterarSobreNo else w.Viz\n",
    "            w = w.Prox"
   ]
  },
  {
   "cell_type": "code",
   "execution_count": 5,
   "metadata": {},
   "outputs": [],
   "source": [
    "def CentroArvore(T):\n",
    "    if T.n == 1:\n",
    "        returbn [1]\n",
    "    d = [0]*(T.n+1)\n",
    "    n = T.n\n",
    "    for (u,v) in T.E():\n",
    "        d[u]=d[u]+1\n",
    "        d[v]=d[v]+1\n",
    "    F = [ v for v in T.V() if d[v]==1 ]\n",
    "    \n",
    "    while n > 2:\n",
    "        Flin = []\n",
    "        for f in F:\n",
    "            v_no = next(T.N(f, IterarSobreNo=True))\n",
    "            v = V_no.Viz\n",
    "            d[v] = d[v]-1\n",
    "            n = n-1\n",
    "            T.RemoverAresta(v_no.e)\n",
    "            if d[v] == 1:\n",
    "                Flin.append(v)\n",
    "        F = Flin\n",
    "    \n",
    "    return F"
   ]
  },
  {
   "cell_type": "markdown",
   "metadata": {},
   "source": [
    "## 3. Tecnicas básicas"
   ]
  },
  {
   "cell_type": "code",
   "execution_count": 1,
   "metadata": {},
   "outputs": [],
   "source": [
    "def ColoracaoAproximada(G):\n",
    "    d = [0]*(G.n+1)\n",
    "    for (u,v) in G.E():\n",
    "        d[u] += 1\n",
    "        d[v] += 1\n",
    "    V = [ (d[v],v) for v in G.V() ]\n",
    "    V.sort(reverse=True)\n",
    "    V = [ v[1] for v in V]\n",
    "    f = [0]*(G.n+1)\n",
    "    cor = [None]*(G.n+1)\n",
    "    chi = 0\n",
    "    for j in V:\n",
    "        for w in G.N(j):\n",
    "            if cor[w] != None:\n",
    "                f[cor[w]] = j\n",
    "        r = 1\n",
    "        while cor[j]==None:\n",
    "            if f[r] != j:\n",
    "                cor[j] = r\n",
    "                chi = max(chi,r)\n",
    "            else:\n",
    "                r += 1\n",
    "    \n",
    "    return chi"
   ]
  },
  {
   "cell_type": "code",
   "execution_count": null,
   "metadata": {},
   "outputs": [],
   "source": [
    "def OrdenacaoTopologica(D):\n",
    "    d = [0]*(D.n+1)\n",
    "    Q = []\n",
    "    V = [None]*D.n\n",
    "    for w in D.V():\n",
    "        for v in D.N(w, \"-\"):\n",
    "            d[w] += 1\n",
    "        if d[w] == 0:\n",
    "            Q.append(w)\n",
    "    for j in range(1, D.n+1):\n",
    "        w = Q.pop()\n",
    "        V[j-1] = w\n",
    "        for v in D.N(w, \"+\"):\n",
    "            d[v] -= 1\n",
    "            if d[v] == 0:\n",
    "                Q.append(v)\n",
    "                \n",
    "    return V"
   ]
  },
  {
   "cell_type": "markdown",
   "metadata": {},
   "source": [
    "## 4. Buscas em grafos"
   ]
  },
  {
   "cell_type": "code",
   "execution_count": 6,
   "metadata": {},
   "outputs": [],
   "source": [
    "def BuscaProfundidade(G):\n",
    "    def P(v):\n",
    "        G.Marcado[v], G.EmQ[v] = True, True\n",
    "        Q.append(v)\n",
    "        for w in G.N(v):\n",
    "            if not G.Maarcado[w]:\n",
    "                Visitar(v, w)\n",
    "                P(w)\n",
    "            else:\n",
    "                if G.EmQ[w] and w != Q[-2]:\n",
    "                    Visitar(v, w)\n",
    "        G.EmQ[v] = False\n",
    "        Q.pop()\n",
    "    \n",
    "    G.Marcado, G.EmQ = [False]*(G.n+1), [False]*(G.n+1)\n",
    "    Q = []\n",
    "    s = 1\n",
    "    P(s)"
   ]
  },
  {
   "cell_type": "code",
   "execution_count": 7,
   "metadata": {},
   "outputs": [],
   "source": [
    "def BuscaProfundidade(D):\n",
    "    def P(v):\n",
    "        D.Marcado[v] = True\n",
    "        Q.append(v)\n",
    "        for w in D.N(v, \"+\"):\n",
    "            Visitar(v, w)\n",
    "            if not D.Marcado[w]:\n",
    "                P(w)\n",
    "        Q.pop()\n",
    "        \n",
    "    D.Marcado = [False]*(D.n+1)\n",
    "    Q = []\n",
    "    s = 1\n",
    "    P(s)"
   ]
  },
  {
   "cell_type": "code",
   "execution_count": null,
   "metadata": {},
   "outputs": [],
   "source": [
    "def ComponentesFortementeConexas(D):\n",
    "    def F(v):\n",
    "        global j\n",
    "        D.Marcado[v] = True\n",
    "        j += 1\n",
    "        PE[v], low[v] = j, j\n",
    "        for w in D.N(v,Tipo=\"+\"):\n",
    "            if nor D.Marcado[w]:\n",
    "                T.AdicionarAresta(v,w)\n",
    "                F(w)"
   ]
  }
 ],
 "metadata": {
  "kernelspec": {
   "display_name": "Python 3",
   "language": "python",
   "name": "python3"
  },
  "language_info": {
   "codemirror_mode": {
    "name": "ipython",
    "version": 3
   },
   "file_extension": ".py",
   "mimetype": "text/x-python",
   "name": "python",
   "nbconvert_exporter": "python",
   "pygments_lexer": "ipython3",
   "version": "3.7.6"
  }
 },
 "nbformat": 4,
 "nbformat_minor": 2
}
